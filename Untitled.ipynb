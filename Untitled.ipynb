{
 "cells": [
  {
   "attachments": {},
   "cell_type": "markdown",
   "id": "2a50cda0-d27e-46dd-a1e0-70d84851921f",
   "metadata": {},
   "source": [
    "Guided Capstone Project Report\r\n",
    "\r\n",
    "Big Mountain Resort, a ski resort located in Montana, recently installed a new chairlift, which increased their operating costs by $1,540,000. The strategy of offsetting these additional costs, charging a premium above the average price of resorts in the same market segment, has aroused suspicion that Big Mountain is not capitalizing on its facilities as much as it could. Essentially, this begs the question, would eliminating facilities/amenities cut costs enough to make for a better value per ticket price, or would this cause a decrease in customer volume. Similarly, if Big Mountain ADDED amenities, would this cause too much of an increase in costs, thus resulting in too much of an increase in ticket price?\r\n",
    "During the Data Wrangling phase, we successfully cleaned the data by removing any columns or rows with missing values and ensuring that we had no duplicate resort names, etc. We determined that our Target Feature would be Adult Weekend ticket sales, because within the data, this column had fewer missing values, and volume of sales was overall greater than during the week.\n",
    "\n",
    " \r\n",
    "\r\n",
    " \r\n",
    "During the Exploratory Data Analysis, we examined several different features, in order to determine if there was an obvious correlation between state and ticket price. We ultimately found no obvious correlation between state and ticket price.\r\n",
    " \r\n",
    "Despite the lack of correlation, we opted to keep the state labels, because we can, and should, consider that no two states are alike (some have more resorts than others, some can accommodate skiing weather-wise for a longer season than others, etc.) We were able to determine, using a heatmap, that Adult Weekend ticket prices are correlated with a number of factors, state aside. Such features included fastQuads, Runs, and Snow Making_ac.  \r\n",
    "In the preprocessing and training phase we tested data calculations using two different models. A linear model, and a Random Forest Model. Our goal was to determine the mean_absolute_error of ticket price. We used 70% of our data to train our models and 30% of our data to test our models. Ultimately, we found that the Random Forest Model performed better than the linear model. \r\n",
    "We  \r\n",
    "Finally, as our initial question related to how Big Mountain Resort can offset the operating costs of its newly installed chair lift. We found that closing up to 10 of the least used runs would not have a significant decrease to ticket price (see figure below), but would, of course cut maintenance costs for the resort. We also examined the possibility of adding a new run, which would increase altitude, thus necessitating another new chair lift. This would also increase snow production acreage. This would result in a ticket price increase of about $1.99 USD, which amounts to about $3474638 over the whole season, which could potentially offset the initial operating costs in question, but also result in customer disapproval due to the increase in price.\r\n",
    " \r\n",
    "\r\n",
    "\r\n",
    "It is recommended that Big Mountain run a trial of closing their least used runs. While this would result in ticket price decrease, it is not significant enough to be of great concern. Additionally, maintenance to these runs would no longer be necessary, thus cutting operating costs. We would like to avoid adding another chair lift in addition to the one that was most recently installed. We would also like to minimize customer dissatisfaction by avoiding a ticket price increase. We will need to gather more data which includes the absence of the operating costs of the least used runs. \r\n",
    "\r\n",
    "\r\n",
    "\r\n",
    "\r\n",
    "\r\n",
    "\r\n",
    "\r\n",
    "\r\n",
    "\r\n",
    "\r\n",
    "\r\n",
    "\r\n",
    "\r\n"
   ]
  }
 ],
 "metadata": {
  "kernelspec": {
   "display_name": "Python 3 (ipykernel)",
   "language": "python",
   "name": "python3"
  },
  "language_info": {
   "codemirror_mode": {
    "name": "ipython",
    "version": 3
   },
   "file_extension": ".py",
   "mimetype": "text/x-python",
   "name": "python",
   "nbconvert_exporter": "python",
   "pygments_lexer": "ipython3",
   "version": "3.11.5"
  }
 },
 "nbformat": 4,
 "nbformat_minor": 5
}
