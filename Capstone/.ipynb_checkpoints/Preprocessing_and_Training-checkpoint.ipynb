{
 "cells": [
  {
   "cell_type": "code",
   "execution_count": 9,
   "id": "a50b2467",
   "metadata": {},
   "outputs": [],
   "source": [
    "#Import packages\n",
    "import pandas as pd\n",
    "import numpy as np\n",
    "import os\n",
    "import matplotlib.pyplot as plt\n",
    "import seaborn as sns\n",
    "from sklearn.decomposition import PCA\n",
    "from sklearn.preprocessing import scale\n",
    "from sklearn.preprocessing import OneHotEncoder, StandardScaler\n",
    "from sklearn.impute import SimpleImputer\n",
    "from sklearn.model_selection import train_test_split\n",
    "import warnings"
   ]
  },
  {
   "cell_type": "code",
   "execution_count": 10,
   "id": "b5a74195",
   "metadata": {},
   "outputs": [],
   "source": [
    "#Load the data\n",
    "# Get the path to the \"documents\" folder\n",
    "documents_folder = os.path.expanduser('~/Documents')\n",
    "\n",
    "# Specify the file name\n",
    "file_name = 'Covid_Responses.csv'\n",
    "\n",
    "# Construct the full file path\n",
    "file_path = os.path.join(documents_folder, file_name)\n",
    "\n",
    "# Load the CSV file into a DataFrame\n",
    "data = pd.read_csv(file_path)"
   ]
  },
  {
   "cell_type": "code",
   "execution_count": 11,
   "id": "a753c656",
   "metadata": {},
   "outputs": [
    {
     "name": "stdout",
     "output_type": "stream",
     "text": [
      "Processed data:\n",
      "   Gender_Male  Gender_Other  Gender_nan  Country_CA  Country_DE  Country_FR  \\\n",
      "0          1.0           0.0         0.0         0.0         0.0         0.0   \n",
      "1          1.0           0.0         0.0         0.0         0.0         0.0   \n",
      "2          0.0           0.0         0.0         0.0         0.0         0.0   \n",
      "3          1.0           0.0         0.0         0.0         0.0         0.0   \n",
      "4          1.0           0.0         0.0         0.0         0.0         0.0   \n",
      "\n",
      "   Country_GB  Country_MY  Country_RS  Country_US  ...  Age_17  Age_18  \\\n",
      "0         0.0         0.0         0.0         1.0  ...     0.0     0.0   \n",
      "1         0.0         0.0         0.0         1.0  ...     0.0     0.0   \n",
      "2         0.0         0.0         0.0         1.0  ...     0.0     0.0   \n",
      "3         0.0         0.0         0.0         1.0  ...     1.0     0.0   \n",
      "4         1.0         0.0         0.0         0.0  ...     0.0     0.0   \n",
      "\n",
      "   Age_19  Age_20  Age_21  Age_22  Before-ClassworkStress  \\\n",
      "0     0.0     0.0     0.0     0.0               -1.075541   \n",
      "1     0.0     0.0     0.0     0.0                2.053305   \n",
      "2     0.0     0.0     0.0     0.0               -1.075541   \n",
      "3     0.0     0.0     0.0     0.0                1.271094   \n",
      "4     0.0     0.0     0.0     0.0                0.488882   \n",
      "\n",
      "   Now-ClassworkStress  Before-HomeworkStress  Now-HomeworkStress  \n",
      "0            -0.422879              -0.038954            0.481571  \n",
      "1            -0.422879               0.740135            0.481571  \n",
      "2            -0.422879              -0.038954            0.481571  \n",
      "3             0.930334               0.740135           -2.600485  \n",
      "4             0.930334               0.740135            0.481571  \n",
      "\n",
      "[5 rows x 40 columns]\n"
     ]
    }
   ],
   "source": [
    "# Filter out FutureWarnings\n",
    "warnings.filterwarnings(\"ignore\", category=FutureWarning)\n",
    "\n",
    "# Define categorical and numerical features\n",
    "categorical_features = ['Gender', 'Country', 'State', 'Age']  # Include 'Age' in the list\n",
    "numerical_features = ['Before-ClassworkStress', 'Now-ClassworkStress', 'Before-HomeworkStress', 'Now-HomeworkStress']  # Update with actual feature names\n",
    "\n",
    "# Perform one-hot encoding for categorical features\n",
    "encoder = OneHotEncoder(drop='first', sparse=False)\n",
    "encoded_features = pd.DataFrame(encoder.fit_transform(data[categorical_features]), columns=encoder.get_feature_names(categorical_features))\n",
    "\n",
    "# Scale numerical features\n",
    "scaler = StandardScaler()\n",
    "scaled_features = pd.DataFrame(scaler.fit_transform(data[numerical_features]), columns=numerical_features)\n",
    "\n",
    "# Impute missing values for numerical features\n",
    "imputer = SimpleImputer(strategy='mean')\n",
    "imputed_features = pd.DataFrame(imputer.fit_transform(scaled_features), columns=numerical_features)\n",
    "\n",
    "# Combine encoded categorical features and imputed numerical features\n",
    "processed_data = pd.concat([encoded_features, imputed_features], axis=1)\n",
    "\n",
    "# Display the first few rows of the processed dataset\n",
    "print(\"Processed data:\")\n",
    "print(processed_data.head())\n"
   ]
  },
  {
   "cell_type": "code",
   "execution_count": 12,
   "id": "60d220de",
   "metadata": {
    "scrolled": true
   },
   "outputs": [
    {
     "data": {
      "image/png": "[encoded data removed]",
      "text/plain": [
       "<Figure size 800x600 with 1 Axes>"
      ]
     },
     "metadata": {},
     "output_type": "display_data"
    }
   ],
   "source": [
    "import pandas as pd\n",
    "\n",
    "\n",
    "import pandas as pd\n",
    "import matplotlib.pyplot as plt\n",
    "\n",
    "# Load the dataset\n",
    "file_path = \"C:/Users/Eschneid/Documents/covid_interventions.csv\"\n",
    "covid_interventions = pd.read_csv(file_path)\n",
    "\n",
    "\n",
    "# Convert 'Measure' column to numeric\n",
    "covid_interventions['Measure'] = pd.to_numeric(covid_interventions['Measure'], errors='coerce')\n",
    "\n",
    "# Plot histogram of 'Measure' values\n",
    "plt.figure(figsize=(8, 6))\n",
    "plt.hist(covid_interventions['Measure'], bins=20, color='skyblue', edgecolor='black')\n",
    "plt.title('Distribution of Measure Values')\n",
    "plt.xlabel('Measure Value')\n",
    "plt.ylabel('Frequency')\n",
    "plt.show()\n",
    "\n",
    "\n",
    "# Convert the 'Measure' column to numeric\n",
    "covid_interventions['Measure'] = pd.to_numeric(covid_interventions['Measure'], errors='coerce')\n"
   ]
  },
  {
   "cell_type": "code",
   "execution_count": null,
   "id": "991420bf",
   "metadata": {},
   "outputs": [],
   "source": []
  },
  {
   "cell_type": "code",
   "execution_count": 13,
   "id": "dac57520",
   "metadata": {},
   "outputs": [
    {
     "name": "stdout",
     "output_type": "stream",
     "text": [
      "Above Threshold Length: 52\n",
      "Below Threshold Length: 109\n"
     ]
    }
   ],
   "source": [
    "# Splitting the dataset based on the threshold\n",
    "above_threshold = covid_interventions[covid_interventions['Measure'] > 20]\n",
    "below_threshold = covid_interventions[covid_interventions['Measure'] <= 20]\n",
    "\n",
    "# Checking the lengths of the resulting datasets\n",
    "print(\"Above Threshold Length:\", len(above_threshold))\n",
    "print(\"Below Threshold Length:\", len(below_threshold))\n"
   ]
  },
  {
   "cell_type": "code",
   "execution_count": 14,
   "id": "7032cff0",
   "metadata": {},
   "outputs": [],
   "source": [
    "# Define the threshold\n",
    "threshold = 20\n",
    "\n",
    "# Create binary indicator for the target variable\n",
    "covid_interventions['RESE Positive Binary'] = (covid_interventions['Measure'] > threshold).astype(int)\n",
    "\n",
    "# Define the target variable\n",
    "target = covid_interventions['RESE Positive Binary']\n",
    "\n",
    "\n",
    "# Now we're ready to proceed with modeling and evaluation.\n",
    "\n",
    "\n",
    "# Step 1: Create dummy variables for categorical variables\n",
    "# Get the features excluding the target variable\n",
    "features = covid_interventions.drop(columns=['Measure'])\n",
    "\n",
    "# Create dummy variables for categorical variables\n",
    "features = pd.get_dummies(features)\n",
    "\n",
    "# Step 2: Scale the numeric features using MinMaxScaler\n",
    "from sklearn.preprocessing import MinMaxScaler\n",
    "\n",
    "# Selecting only the numeric columns for scaling\n",
    "numeric_cols = features.select_dtypes(include=['float64', 'int64']).columns\n",
    "\n",
    "# Scale the numeric features\n",
    "scaler = MinMaxScaler()\n",
    "features[numeric_cols] = scaler.fit_transform(features[numeric_cols])\n",
    "\n",
    "# Step 3: Split the data into training and testing sets\n",
    "from sklearn.model_selection import train_test_split\n",
    "\n",
    "X_train, X_test, y_train, y_test = train_test_split(features, target, test_size=0.2, random_state=42)\n",
    "\n",
    "# Now we're ready to proceed with modeling and evaluation.\n",
    "\n",
    "# Suppress RuntimeWarning\n",
    "warnings.filterwarnings(\"ignore\", category=RuntimeWarning)\n"
   ]
  },
  {
   "cell_type": "code",
   "execution_count": 22,
   "id": "e2b4cfdb",
   "metadata": {},
   "outputs": [
    {
     "name": "stdout",
     "output_type": "stream",
     "text": [
      "No samples remaining in the cleaned training data after dropping missing values.\n"
     ]
    }
   ],
   "source": [
    "if not X_train_clean.empty:\n",
    "    # Initialize the SVR model\n",
    "    svm_reg = SVR()\n",
    "\n",
    "    # Train the model on the cleaned training data\n",
    "    svm_reg.fit(X_train_clean, y_train_clean)\n",
    "\n",
    "    # Make predictions on the cleaned testing data\n",
    "    y_pred = svm_reg.predict(X_test_clean)\n",
    "\n",
    "    # Calculate evaluation metrics\n",
    "    mae = mean_absolute_error(y_test, y_pred)\n",
    "    mse = mean_squared_error(y_test, y_pred)\n",
    "    r2 = r2_score(y_test, y_pred)\n",
    "\n",
    "    # Print the evaluation metrics\n",
    "    print(\"Mean Absolute Error (MAE):\", mae)\n",
    "    print(\"Mean Squared Error (MSE):\", mse)\n",
    "    print(\"R-squared (R2) Score:\", r2)\n",
    "else:\n",
    "    print(\"No samples remaining in the cleaned training data after dropping missing values.\")\n"
   ]
  },
  {
   "cell_type": "code",
   "execution_count": null,
   "id": "cd361635",
   "metadata": {},
   "outputs": [],
   "source": []
  }
 ],
 "metadata": {
  "kernelspec": {
   "display_name": "Python 3 (ipykernel)",
   "language": "python",
   "name": "python3"
  },
  "language_info": {
   "codemirror_mode": {
    "name": "ipython",
    "version": 3
   },
   "file_extension": ".py",
   "mimetype": "text/x-python",
   "name": "python",
   "nbconvert_exporter": "python",
   "pygments_lexer": "ipython3",
   "version": "3.11.5"
  }
 },
 "nbformat": 4,
 "nbformat_minor": 5
}
